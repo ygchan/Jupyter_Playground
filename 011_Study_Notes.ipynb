{
 "cells": [
  {
   "cell_type": "code",
   "execution_count": 3,
   "metadata": {},
   "outputs": [
    {
     "name": "stdout",
     "output_type": "stream",
     "text": [
      "Testing\n"
     ]
    }
   ],
   "source": [
    "# Function\n",
    "# How to create a function in python?\n",
    "\n",
    "def name_of_function(my_arugment_one, my_arugment_two):\n",
    "    print('Testing')\n",
    "\n",
    "# Calling the function\n",
    "name_of_function(1, 2)"
   ]
  },
  {
   "cell_type": "code",
   "execution_count": 6,
   "metadata": {},
   "outputs": [
    {
     "name": "stdout",
     "output_type": "stream",
     "text": [
      "100\n"
     ]
    }
   ],
   "source": [
    "# A python function that returns a value\n",
    "def myfun():\n",
    "    return 100\n",
    "\n",
    "my_num = myfun()\n",
    "print(my_num)"
   ]
  },
  {
   "cell_type": "code",
   "execution_count": 7,
   "metadata": {},
   "outputs": [
    {
     "name": "stdout",
     "output_type": "stream",
     "text": [
      "Testing\n"
     ]
    },
    {
     "data": {
      "text/plain": [
       "NoneType"
      ]
     },
     "execution_count": 7,
     "metadata": {},
     "output_type": "execute_result"
    }
   ],
   "source": [
    "# If you write any function that doesn't return\n",
    "# python returns \"None\" behalf of you.\n",
    "my_return = name_of_function(1, 2)\n",
    "\n",
    "type(my_return)"
   ]
  },
  {
   "cell_type": "code",
   "execution_count": 8,
   "metadata": {},
   "outputs": [
    {
     "data": {
      "text/plain": [
       "int"
      ]
     },
     "execution_count": 8,
     "metadata": {},
     "output_type": "execute_result"
    }
   ],
   "source": [
    "# Another test - checking the return type of our function\n",
    "# myfun, where it returns a number\n",
    "type(myfun())"
   ]
  },
  {
   "cell_type": "code",
   "execution_count": 9,
   "metadata": {},
   "outputs": [
    {
     "data": {
      "text/plain": [
       "function"
      ]
     },
     "execution_count": 9,
     "metadata": {},
     "output_type": "execute_result"
    }
   ],
   "source": [
    "# But function is actually an object in Python\n",
    "type(myfun)"
   ]
  },
  {
   "cell_type": "code",
   "execution_count": 11,
   "metadata": {},
   "outputs": [],
   "source": [
    "# Proper documentation style for your function\n",
    "# Doc String\n",
    "def print_name(name):\n",
    "    \"\"\" Print the name to the screen. \"\"\"\n",
    "    print(name)"
   ]
  },
  {
   "cell_type": "code",
   "execution_count": 17,
   "metadata": {},
   "outputs": [
    {
     "data": {
      "text/plain": [
       "' Print the name to the screen. '"
      ]
     },
     "execution_count": 17,
     "metadata": {},
     "output_type": "execute_result"
    }
   ],
   "source": [
    "# You can get the doc string by using fun-name.__doc__\n",
    "print_name.__doc__"
   ]
  },
  {
   "cell_type": "code",
   "execution_count": 18,
   "metadata": {},
   "outputs": [],
   "source": [
    "# Another way to access the function's document string\n",
    "# print_name?"
   ]
  },
  {
   "cell_type": "code",
   "execution_count": 20,
   "metadata": {},
   "outputs": [],
   "source": [
    "# This works for any function\n",
    "# len?"
   ]
  },
  {
   "cell_type": "code",
   "execution_count": 23,
   "metadata": {},
   "outputs": [
    {
     "name": "stdout",
     "output_type": "stream",
     "text": [
      "2^2: 4\n",
      "2^2: 4\n",
      "3^5: 243\n",
      "3^5: 243\n"
     ]
    }
   ],
   "source": [
    "# Let's do the optional argument (paramater)\n",
    "def power(x, y=2):\n",
    "    r = 1\n",
    "    while y > 0:\n",
    "        r = r * x\n",
    "        y = y - 1\n",
    "    return r\n",
    "\n",
    "print('2^2:', power(2, 2))\n",
    "print('2^2:', power(2))\n",
    "print('3^5:', power(3, 5))\n",
    "\n",
    "# But this also work\n",
    "print('3^5:', power(y=5, x=3))"
   ]
  },
  {
   "cell_type": "code",
   "execution_count": 27,
   "metadata": {},
   "outputs": [],
   "source": [
    "# You can also pass unknown amount of parameters to it\n",
    "my_num_list = [10, 1, 5, 20, -1]\n",
    "\n",
    "# Write a function that get the maximum value\n",
    "\n",
    "# def find_max(Pass something here):\n",
    "    # Create a proper doc string\n",
    "    # Your code here ..."
   ]
  },
  {
   "cell_type": "code",
   "execution_count": 28,
   "metadata": {},
   "outputs": [
    {
     "data": {
      "text/plain": [
       "20"
      ]
     },
     "execution_count": 28,
     "metadata": {},
     "output_type": "execute_result"
    }
   ],
   "source": [
    "def find_max(num_list):\n",
    "    \"\"\"Return the largest number from a list.\"\"\"\n",
    "    return sorted(num_list)[-1]\n",
    "\n",
    "find_max(my_num_list)"
   ]
  },
  {
   "cell_type": "code",
   "execution_count": 29,
   "metadata": {},
   "outputs": [
    {
     "data": {
      "text/plain": [
       "'Return the largest number from a list.'"
      ]
     },
     "execution_count": 29,
     "metadata": {},
     "output_type": "execute_result"
    }
   ],
   "source": [
    "find_max.__doc__"
   ]
  },
  {
   "cell_type": "code",
   "execution_count": 31,
   "metadata": {},
   "outputs": [
    {
     "data": {
      "text/plain": [
       "20"
      ]
     },
     "execution_count": 31,
     "metadata": {},
     "output_type": "execute_result"
    }
   ],
   "source": [
    "# Taking integers (parameters directly),\n",
    "# if there is more than 1 number, it will be converted\n",
    "# into tuple, and you are sorting a tuple!\n",
    "def find_another_max(*numbers):\n",
    "    \"\"\"Find the largest number from a unknown number of int\"\"\"\n",
    "    if len(numbers) == 0:\n",
    "        return None\n",
    "    else:\n",
    "        return sorted(numbers)[-1]\n",
    "\n",
    "find_another_max(10, 1, 5, 20, -1)"
   ]
  }
 ],
 "metadata": {
  "kernelspec": {
   "display_name": "Python 3",
   "language": "python",
   "name": "python3"
  },
  "language_info": {
   "codemirror_mode": {
    "name": "ipython",
    "version": 3
   },
   "file_extension": ".py",
   "mimetype": "text/x-python",
   "name": "python",
   "nbconvert_exporter": "python",
   "pygments_lexer": "ipython3",
   "version": "3.7.3"
  }
 },
 "nbformat": 4,
 "nbformat_minor": 2
}
