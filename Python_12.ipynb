{
 "cells": [
  {
   "cell_type": "code",
   "execution_count": 42,
   "metadata": {},
   "outputs": [],
   "source": [
    "# Skype with VJ on 8/19/2019"
   ]
  },
  {
   "cell_type": "code",
   "execution_count": 43,
   "metadata": {},
   "outputs": [],
   "source": [
    "# Did you still remember what is pickle?\n",
    "# Did you still remember what is shelve?\n",
    "\n",
    "# By the way, we are at chapter 13 of this book\n",
    "# The quick python book"
   ]
  },
  {
   "cell_type": "code",
   "execution_count": 44,
   "metadata": {},
   "outputs": [],
   "source": [
    "import pickle \n",
    "\n",
    "a = 5\n",
    "b = 'George'"
   ]
  },
  {
   "cell_type": "code",
   "execution_count": 45,
   "metadata": {},
   "outputs": [],
   "source": [
    "# In python 3.x, we need to use \"wb\"\n",
    "# https://stackoverflow.com/questions/13906623/using-pickle-dump-typeerror-must-be-str-not-bytes\n",
    "file = open(\"state\", \"wb\")"
   ]
  },
  {
   "cell_type": "code",
   "execution_count": 46,
   "metadata": {},
   "outputs": [],
   "source": [
    "# This is how we store the variable's state\n",
    "# state is another word for the current value of the variable\n",
    "pickle.dump(a, file)\n",
    "pickle.dump(b, file)"
   ]
  },
  {
   "cell_type": "code",
   "execution_count": 47,
   "metadata": {},
   "outputs": [],
   "source": [
    "# Always remember to close it\n",
    "file.close()"
   ]
  },
  {
   "cell_type": "code",
   "execution_count": 48,
   "metadata": {
    "scrolled": true
   },
   "outputs": [
    {
     "name": "stdout",
     "output_type": "stream",
     "text": [
      "5 George\n",
      "5 George\n"
     ]
    },
    {
     "data": {
      "text/plain": [
       "<function BufferedReader.close>"
      ]
     },
     "execution_count": 48,
     "metadata": {},
     "output_type": "execute_result"
    }
   ],
   "source": [
    "# If you want to open it\n",
    "\n",
    "# You have to do write bytes too\n",
    "# Because in python 3.x, the way to open/write is changed\n",
    "file = open(\"state\", \"rb\")\n",
    "number = pickle.load(file)\n",
    "string = pickle.load(file)\n",
    "\n",
    "# To print on the same line\n",
    "print(number, end=' ')\n",
    "print(string)\n",
    "\n",
    "# To print on the same line\n",
    "print(number, string)\n",
    "\n",
    "file.close"
   ]
  },
  {
   "cell_type": "code",
   "execution_count": 49,
   "metadata": {},
   "outputs": [],
   "source": [
    "# This is actually the better method\n",
    "import shelve\n",
    "\n",
    "address = shelve.open(\"data_base\")\n",
    "address['George'] = 'Brooklyn'\n",
    "address['Sam'] = 'Jersey City'\n",
    "address.close()"
   ]
  },
  {
   "cell_type": "code",
   "execution_count": 50,
   "metadata": {},
   "outputs": [
    {
     "name": "stdout",
     "output_type": "stream",
     "text": [
      "Brooklyn\n",
      "Jersey City\n"
     ]
    }
   ],
   "source": [
    "import shelve\n",
    "\n",
    "data = shelve.open(\"data_base\")\n",
    "print(data['George'])\n",
    "print(data['Sam'])\n",
    "\n",
    "data.close()"
   ]
  },
  {
   "cell_type": "code",
   "execution_count": 51,
   "metadata": {},
   "outputs": [
    {
     "name": "stdout",
     "output_type": "stream",
     "text": [
      "1 * 1 = 1\n",
      "1 * 3 = 3\n",
      "3 * 5 = 15\n",
      "15 * 7 = 105\n",
      "105 * 9 = 945\n",
      "945 * 11 = 10395\n",
      "10395 * 13 = 135135\n",
      "135135 * 15 = 2027025\n",
      "The answer is:  2027025\n"
     ]
    }
   ],
   "source": [
    "# P.208 - Control Statement Part 2\n",
    "# Write a program that use a for loop to calculate\n",
    "# and print the product of the odd integers from 1 to 15\n",
    "\n",
    "# For loop has a step ability\n",
    "result = 1\n",
    "\n",
    "# range([start,] stop [, step]) -> range object\n",
    "for i in range(1, 16, 2):\n",
    "    print(result, '*', i, '=', result * i)\n",
    "    result *= i\n",
    "\n",
    "print('The answer is: ', result)"
   ]
  },
  {
   "cell_type": "code",
   "execution_count": 52,
   "metadata": {},
   "outputs": [
    {
     "data": {
      "text/plain": [
       "15"
      ]
     },
     "execution_count": 52,
     "metadata": {},
     "output_type": "execute_result"
    }
   ],
   "source": [
    "def calc_odd_num(a, b):\n",
    "    '''Function takes a range and return the products of odd numbers'''\n",
    "    result = 1\n",
    "    \n",
    "    # If b is less than a, we would swap them\n",
    "    if b < a:\n",
    "        a, b = b, a\n",
    "    \n",
    "    # We confirmed the swap is ok!\n",
    "    # print(a, b)\n",
    "        \n",
    "    # We probably need to test if our starting \n",
    "    # value is odd or even?\n",
    "    \n",
    "    # Test if it is even, if so, move to next odd number\n",
    "    if (a % 2 == 0):\n",
    "        a = a + 1\n",
    "    \n",
    "    for j in range(a, b+1, 2):\n",
    "        if (j != 0):\n",
    "            result *= j\n",
    "    return result\n",
    "\n",
    "# Expectd number should be 15\n",
    "# -1 * 1 * 3 * 5 = 15\n",
    "calc_odd_num(5, 0)"
   ]
  }
 ],
 "metadata": {
  "kernelspec": {
   "display_name": "Python 3",
   "language": "python",
   "name": "python3"
  },
  "language_info": {
   "codemirror_mode": {
    "name": "ipython",
    "version": 3
   },
   "file_extension": ".py",
   "mimetype": "text/x-python",
   "name": "python",
   "nbconvert_exporter": "python",
   "pygments_lexer": "ipython3",
   "version": "3.7.3"
  }
 },
 "nbformat": 4,
 "nbformat_minor": 2
}
