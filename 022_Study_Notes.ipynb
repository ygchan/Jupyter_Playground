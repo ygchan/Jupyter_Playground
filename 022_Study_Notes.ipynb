{
 "cells": [
  {
   "cell_type": "code",
   "execution_count": 1,
   "metadata": {},
   "outputs": [],
   "source": [
    "# 11/25/2019 and # 11/26/2019\n",
    "# Studied two days at lunch time with Vijaya"
   ]
  },
  {
   "cell_type": "code",
   "execution_count": null,
   "metadata": {},
   "outputs": [],
   "source": [
    "# Worked on a few project\n",
    "# tkinter based mainframe job output file translator\n",
    "# terminal based sas output log translator\n",
    "# implemented a solution to extract data and use it to create a pandas dataframe\n",
    "# then used pivot feature to properly transposed to right format"
   ]
  }
 ],
 "metadata": {
  "kernelspec": {
   "display_name": "Python 3",
   "language": "python",
   "name": "python3"
  },
  "language_info": {
   "codemirror_mode": {
    "name": "ipython",
    "version": 3
   },
   "file_extension": ".py",
   "mimetype": "text/x-python",
   "name": "python",
   "nbconvert_exporter": "python",
   "pygments_lexer": "ipython3",
   "version": "3.7.3"
  }
 },
 "nbformat": 4,
 "nbformat_minor": 2
}
