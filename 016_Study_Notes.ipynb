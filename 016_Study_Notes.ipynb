{
 "cells": [
  {
   "cell_type": "code",
   "execution_count": 1,
   "metadata": {},
   "outputs": [],
   "source": [
    "# Debugging - with logging and exception"
   ]
  },
  {
   "cell_type": "code",
   "execution_count": 3,
   "metadata": {},
   "outputs": [
    {
     "name": "stdout",
     "output_type": "stream",
     "text": [
      "Please enter your name:123\n",
      "Hello 123\n"
     ]
    }
   ],
   "source": [
    "# First let's make a simple function\n",
    "def name_print(name):\n",
    "    '''Take a string and print it to the screen'''\n",
    "    print('Hello', name)\n",
    "    \n",
    "my_name = input('Please enter your name:')\n",
    "name_print(my_name)"
   ]
  },
  {
   "cell_type": "code",
   "execution_count": 13,
   "metadata": {},
   "outputs": [
    {
     "name": "stdout",
     "output_type": "stream",
     "text": [
      "Please enter your name:  George\n",
      "Hello George\n"
     ]
    }
   ],
   "source": [
    "# But we don't have error checking\n",
    "# or handling when it isn't a proper name\n",
    "def name_print_better(name):\n",
    "    '''Take a string and print it to the screen'''\n",
    "    name = name.strip()\n",
    "    \n",
    "    if not (name.isalpha()):\n",
    "        raise Exception('Name must be only letters.')\n",
    "    print('Hello', name)\n",
    "\n",
    "# Testing the program\n",
    "my_name = input('Please enter your name: ')\n",
    "name_print_better(my_name)"
   ]
  },
  {
   "cell_type": "code",
   "execution_count": 12,
   "metadata": {},
   "outputs": [
    {
     "name": "stdout",
     "output_type": "stream",
     "text": [
      "Please enter a name: (q to exit) george\n",
      "Hello george\n",
      "Please enter a name: (q to exit) 123\n",
      "Sorry, ' 123 ' is invalid.\n",
      "Please enter a name: (q to exit) Q\n"
     ]
    }
   ],
   "source": [
    "# Another way to do more testing\n",
    "while True:\n",
    "    current_name = input('Please enter a name: (q to exit) ')\n",
    "    \n",
    "    # Check if user wants to exit from the program\n",
    "    if current_name.lower() == 'q':\n",
    "        break\n",
    "    \n",
    "    # Check if the input is only characters\n",
    "    if (current_name.isalpha()):\n",
    "        name_print_better(current_name)\n",
    "    else:\n",
    "        print(\"Sorry, '\", current_name, \"' is invalid.\")"
   ]
  },
  {
   "cell_type": "code",
   "execution_count": 16,
   "metadata": {},
   "outputs": [
    {
     "name": "stdout",
     "output_type": "stream",
     "text": [
      "The sum of 1+2 is: 3\n"
     ]
    }
   ],
   "source": [
    "# Example from the book\n",
    "def simple_function(one, two):\n",
    "    if one != 1:\n",
    "        raise Exception('Varaible one must be 1')\n",
    "    if two != 2:\n",
    "        raise Exception('Variable two must be 2')\n",
    "    print('The sum of 1+2 is:', one + two)\n",
    "    \n",
    "try:\n",
    "    simple_function(1, 2)\n",
    "except Exception as err:\n",
    "    print('An exception happened: ' + str(err))"
   ]
  },
  {
   "cell_type": "code",
   "execution_count": 18,
   "metadata": {},
   "outputs": [
    {
     "name": "stdout",
     "output_type": "stream",
     "text": [
      "An exception happened: Varaible one must be 1\n"
     ]
    }
   ],
   "source": [
    "try:\n",
    "    simple_function(4, 5)\n",
    "except Exception as err:\n",
    "    print('An exception happened: ' + str(err))"
   ]
  },
  {
   "cell_type": "code",
   "execution_count": 22,
   "metadata": {},
   "outputs": [
    {
     "name": "stdout",
     "output_type": "stream",
     "text": [
      "An exception happened: Both numbers are wrong\n"
     ]
    }
   ],
   "source": [
    "# Modify to check for both parameters:\n",
    "def simple_function(one, two):\n",
    "    one_good = (one == 1)\n",
    "    two_good = (two == 2)\n",
    "    \n",
    "    if (not one_good and not two_good):\n",
    "        raise Exception('Both numbers are wrong')\n",
    "    if not one_good:\n",
    "        raise Exception('Varaible one must be 1')\n",
    "    if not two_good:\n",
    "        raise Exception('Variable two must be 2')\n",
    "    print('The sum of 1 + 2 is:', one + two)\n",
    "    \n",
    "try:\n",
    "    simple_function(6, 6)\n",
    "except Exception as err:\n",
    "    print('An exception happened: ' + str(err))"
   ]
  },
  {
   "cell_type": "code",
   "execution_count": 25,
   "metadata": {},
   "outputs": [
    {
     "name": "stdout",
     "output_type": "stream",
     "text": [
      "Testing pi value:  3.141592653589793\n"
     ]
    }
   ],
   "source": [
    "# Write a program that caluate the area of a cirle\n",
    "# Properly test if the radius is a number and between (1-100)\n",
    "# Otherwise handle it with Exception and print out message\n",
    "# Please use Math library's pi value\n",
    "\n",
    "from math import pi\n",
    "\n",
    "print('Testing pi value: ', pi)"
   ]
  },
  {
   "cell_type": "code",
   "execution_count": 30,
   "metadata": {},
   "outputs": [
    {
     "name": "stdout",
     "output_type": "stream",
     "text": [
      "An exception happened:  The value must be a int/float\n"
     ]
    }
   ],
   "source": [
    "def calculate_area_of_circle(r):\n",
    "    # isinstance(x, int)\n",
    "    # https://stackoverflow.com/a/4541167\n",
    "    if not(isinstance(r, int) or isinstance(r, float)):\n",
    "        raise Exception('The value must be a int/float')\n",
    "    if not(1 <= r < 100):\n",
    "        raise Exception('The value must be between 1-100')\n",
    "    return pi * r ** 2\n",
    "\n",
    "try:\n",
    "    print(calculate_area_of_circle('abc'))\n",
    "except Exception as err:\n",
    "    print('An exception happened: ', str(err))"
   ]
  },
  {
   "cell_type": "code",
   "execution_count": null,
   "metadata": {},
   "outputs": [],
   "source": []
  }
 ],
 "metadata": {
  "kernelspec": {
   "display_name": "Python 3",
   "language": "python",
   "name": "python3"
  },
  "language_info": {
   "codemirror_mode": {
    "name": "ipython",
    "version": 3
   },
   "file_extension": ".py",
   "mimetype": "text/x-python",
   "name": "python",
   "nbconvert_exporter": "python",
   "pygments_lexer": "ipython3",
   "version": "3.7.3"
  }
 },
 "nbformat": 4,
 "nbformat_minor": 2
}
