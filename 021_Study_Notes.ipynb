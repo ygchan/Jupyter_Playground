{
 "cells": [
  {
   "cell_type": "code",
   "execution_count": 1,
   "metadata": {},
   "outputs": [],
   "source": [
    "# P.208\n",
    "\n",
    "# 5.13 One interesting application of computers is the drawing of graphs\n",
    "# and bar chats. Write a program that reads 5 numbers (between 1 and 30)\n",
    "# Assume the users enters only valid values. For each number that is \n",
    "# read. Your program should print a line containing that number of \n",
    "# adjacent asterisks. "
   ]
  },
  {
   "cell_type": "code",
   "execution_count": 14,
   "metadata": {},
   "outputs": [
    {
     "name": "stdout",
     "output_type": "stream",
     "text": [
      "Please enter a number (1-30): 5\n",
      "Please enter a number (1-30): 10\n",
      "Please enter a number (1-30): 20\n",
      "Please enter a number (1-30): 24\n",
      "Please enter a number (1-30): 30\n",
      "\n",
      "Report Graphic:\n",
      "\n",
      " 5 : *****\n",
      "10 : **********\n",
      "20 : ********************\n",
      "24 : ************************\n",
      "30 : ******************************\n"
     ]
    }
   ],
   "source": [
    "good_input_count = 0\n",
    "number_list = []\n",
    "\n",
    "while (len(number_list) < 5):\n",
    "    number = int(input('Please enter a number (1-30): '))\n",
    "    number_list.append(number)\n",
    "\n",
    "print('\\nReport Graphic:\\n')\n",
    "for size in number_list:\n",
    "    print(str(size).rjust(2), ':', '*' * size)"
   ]
  }
 ],
 "metadata": {
  "kernelspec": {
   "display_name": "Python 3",
   "language": "python",
   "name": "python3"
  },
  "language_info": {
   "codemirror_mode": {
    "name": "ipython",
    "version": 3
   },
   "file_extension": ".py",
   "mimetype": "text/x-python",
   "name": "python",
   "nbconvert_exporter": "python",
   "pygments_lexer": "ipython3",
   "version": "3.7.3"
  }
 },
 "nbformat": 4,
 "nbformat_minor": 2
}
