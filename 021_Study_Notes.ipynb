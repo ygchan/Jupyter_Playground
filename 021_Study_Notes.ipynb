{
 "cells": [
  {
   "cell_type": "code",
   "execution_count": null,
   "metadata": {},
   "outputs": [],
   "source": [
    "# P.208\n",
    "\n",
    "# 5.13 One interesting application of computers is the drawing of graphs\n",
    "# and bar chats. Write a program that reads 5 numbers (between 1 and 30)\n",
    "# Assume the users enters only valid values. For each number that is \n",
    "# read. Your program should print a line containing that number of \n",
    "# adjacent asterisks. "
   ]
  },
  {
   "cell_type": "code",
   "execution_count": 1,
   "metadata": {},
   "outputs": [
    {
     "name": "stdout",
     "output_type": "stream",
     "text": [
      "Please enter a number (1-30): 5\n",
      "Please enter a number (1-30): 20\n",
      "Please enter a number (1-30): 12\n",
      "Please enter a number (1-30): 30\n",
      "Please enter a number (1-30): 19\n",
      "\n",
      "Report Graphic:\n",
      "\n",
      " 5 : *****\n",
      "20 : ********************\n",
      "12 : ************\n",
      "30 : ******************************\n",
      "19 : *******************\n"
     ]
    }
   ],
   "source": [
    "good_input_count = 0\n",
    "number_list = []\n",
    "\n",
    "while (len(number_list) < 5):\n",
    "    number = int(input('Please enter a number (1-30): '))\n",
    "    number_list.append(number)\n",
    "\n",
    "print('\\nReport Graphic:\\n')\n",
    "for size in number_list:\n",
    "    print(str(size).rjust(2), ':', '*' * size)"
   ]
  },
  {
   "cell_type": "code",
   "execution_count": 2,
   "metadata": {},
   "outputs": [],
   "source": [
    "# P.208\n",
    "\n",
    "# 5.15 Modify the gradebook program so that it calculates\n",
    "# the grade point average for the set of grades."
   ]
  },
  {
   "cell_type": "code",
   "execution_count": 14,
   "metadata": {},
   "outputs": [],
   "source": [
    "# user_input = input('Please enter a list of grades: ')\n",
    "user_input = 'A A B B C X'"
   ]
  },
  {
   "cell_type": "code",
   "execution_count": 15,
   "metadata": {},
   "outputs": [],
   "source": [
    "# The grade's cross-walk to numerical values\n",
    "gpa_dict = {\n",
    "    'A': 4,\n",
    "    'B': 3,\n",
    "    'C': 2,\n",
    "    'D': 1,\n",
    "    'F': 0\n",
    "}"
   ]
  },
  {
   "cell_type": "code",
   "execution_count": 19,
   "metadata": {
    "scrolled": true
   },
   "outputs": [
    {
     "name": "stdout",
     "output_type": "stream",
     "text": [
      "A : 4\n",
      "A : 4\n",
      "B : 3\n",
      "B : 3\n",
      "C : 2\n",
      "\n",
      "Your GPA is:  2.7\n"
     ]
    }
   ],
   "source": [
    "# Splitting the letter grades by spaces\n",
    "grade_list = user_input.split()\n",
    "\n",
    "# Initalize the grade sum and gpa value\n",
    "grade_sum = 0\n",
    "gpa = 0\n",
    "\n",
    "# Looping each letter grade and adding the sum\n",
    "for grade in grade_list:\n",
    "    if grade in gpa_dict.keys():\n",
    "        print(grade, ':', gpa_dict[grade])\n",
    "        grade_sum += gpa_dict[grade]\n",
    "\n",
    "# If the grade sum is greater than 0\n",
    "if (grade_sum > 0):\n",
    "    gpa = grade_sum / len(grade_list)\n",
    "\n",
    "print('\\nYour GPA is: ', round(gpa,1))"
   ]
  },
  {
   "cell_type": "code",
   "execution_count": 20,
   "metadata": {},
   "outputs": [],
   "source": [
    "# P.208\n",
    "\n",
    "# 5.15 Modify the gradebook program so that it calculates\n",
    "# the grade point average for the set of grades."
   ]
  },
  {
   "cell_type": "code",
   "execution_count": 21,
   "metadata": {},
   "outputs": [],
   "source": [
    "# The cross walk dictionary for letter grades to\n",
    "# number values.\n",
    "grade_dict = {\n",
    "    'A': 4,\n",
    "    'B': 3,\n",
    "    'C': 2,\n",
    "    'D': 1,\n",
    "    'F': 0\n",
    "}"
   ]
  },
  {
   "cell_type": "code",
   "execution_count": 22,
   "metadata": {
    "scrolled": true
   },
   "outputs": [
    {
     "name": "stdout",
     "output_type": "stream",
     "text": [
      "{'A': 4, 'B': 3, 'C': 2, 'D': 1, 'F': 0}\n"
     ]
    }
   ],
   "source": [
    "print(grade_dict)"
   ]
  },
  {
   "cell_type": "code",
   "execution_count": 39,
   "metadata": {},
   "outputs": [
    {
     "name": "stdout",
     "output_type": "stream",
     "text": [
      "Please enter the letter grades: A A C X\n"
     ]
    }
   ],
   "source": [
    "user_input = input('Please enter the letter grades: ')\n",
    "# user_input = 'A A B B C'"
   ]
  },
  {
   "cell_type": "code",
   "execution_count": 40,
   "metadata": {
    "scrolled": true
   },
   "outputs": [
    {
     "name": "stdout",
     "output_type": "stream",
     "text": [
      "A : 4\n",
      "A : 4\n",
      "C : 2\n",
      "\n",
      "Your GPA:  2.5\n"
     ]
    }
   ],
   "source": [
    "# A list contain each letter grade\n",
    "grade_list = user_input.split()\n",
    "\n",
    "# Initalize the sum and gpa\n",
    "grade_sum = 0\n",
    "gpa = 0\n",
    "\n",
    "# Loop each grade, one at a time\n",
    "for grade in grade_list:\n",
    "    # Make sure it's valid grade\n",
    "    if grade in grade_dict.keys():\n",
    "        print(grade, \":\", grade_dict[grade])\n",
    "        grade_sum += grade_dict[grade]\n",
    "\n",
    "# Make sure you don't divide by 0, you crash!\n",
    "if (grade_sum > 0):\n",
    "    gpa = grade_sum / len(grade_list)\n",
    "    \n",
    "print('\\nYour GPA: ', round(gpa, 1))"
   ]
  },
  {
   "cell_type": "code",
   "execution_count": 1,
   "metadata": {},
   "outputs": [],
   "source": [
    "# 4.13 (Gas Mileage) Drivers are concerned with the mileage\n",
    "# obtained by their car. Please use a while loop to input \n",
    "# the miles driven and gallons used for each trip and print\n",
    "# the combined miles per gallon obtained for all tankfuels \n",
    "# up to this point.\n",
    "\n",
    "# Read the problem carefully\n",
    "# Write a program design doc (or pseudocode)\n",
    "# Write the python code"
   ]
  },
  {
   "cell_type": "code",
   "execution_count": 2,
   "metadata": {},
   "outputs": [],
   "source": [
    "# 4.13 (Gas Mileage) Design Document\n",
    "\n",
    "# Declare total gallons and mile driven as double\n",
    "# Declare a control variable input value as 0\n",
    "# Use while loop, proceed if it is not equal to -1\n",
    "# within the while condition, ask user for input\n",
    "#    check if input mile is -1 or > 0 and gallon used is > 0\n",
    "#     if yes, then update total gallons and miles driven\n",
    "#        display the MPG for this trip, round to 6 decmicals\n",
    "#     else, print error message and go to next iteration"
   ]
  },
  {
   "cell_type": "code",
   "execution_count": 22,
   "metadata": {},
   "outputs": [
    {
     "name": "stdout",
     "output_type": "stream",
     "text": [
      "Enter miles drive (-1 to quit): 287\n",
      "Enter gallons used: 13\n",
      "MPG this trip: 22.076923\n",
      "Total MPG:  22.076923 \n",
      "\n",
      "Enter miles drive (-1 to quit): 200\n",
      "Enter gallons used: 10\n",
      "MPG this trip: 20.000000\n",
      "Total MPG:  21.173913 \n",
      "\n",
      "Enter miles drive (-1 to quit): 120\n",
      "Enter gallons used: 5\n",
      "MPG this trip: 24.000000\n",
      "Total MPG:  21.678571 \n",
      "\n",
      "Enter miles drive (-1 to quit): -1\n"
     ]
    }
   ],
   "source": [
    "# Total variables for gallons of gas and miles driven\n",
    "total_gallon, total_mile, control = 0, 0, 0\n",
    "prompt_mile = 'Enter miles drive (-1 to quit): '\n",
    "prompt_gallon = 'Enter gallons used: '\n",
    "\n",
    "def format_result(num, n):\n",
    "    '''Return a formated string with 6 decmial places'''\n",
    "    num_str = str(round(num, n))\n",
    "    if (num_str[-2:]) == '.0':\n",
    "        return num_str + '00000'\n",
    "    else:\n",
    "        return num_str\n",
    "\n",
    "while (control != -1):\n",
    "    new_trip_mile = int(input(prompt_mile))\n",
    "    \n",
    "    # Update the control variable with new trip miles\n",
    "    control = new_trip_mile\n",
    "    \n",
    "    # User did not ask to quit (-1) or valid miles driven\n",
    "    if (new_trip_mile != -1 and new_trip_mile > 0):\n",
    "        new_trip_gallon = int(input(prompt_gallon))\n",
    "        \n",
    "        # check for valid gas used\n",
    "        if (new_trip_gallon > 0):\n",
    "            new_trip_mpg = (new_trip_mile / new_trip_gallon)\n",
    "            \n",
    "            total_mile += new_trip_mile\n",
    "            total_gallon += new_trip_gallon\n",
    "            # print('mile:', total_mile, ', gas: ', total_gallon)\n",
    "            total_mpg = (total_mile / total_gallon)\n",
    "            \n",
    "            # print to terminal\n",
    "            \n",
    "            # pad any trailing zeros per specification\n",
    "            # for example: 24.0 is what round show, but we \n",
    "            # actually want to see 24.000000.\n",
    "            \n",
    "            print('MPG this trip:', format_result(new_trip_mpg, 6))\n",
    "            print('Total MPG: ', format_result(total_mpg, 6), '\\n')\n",
    "        else: \n",
    "            print('Bad input, please try again.\\n')"
   ]
  },
  {
   "cell_type": "code",
   "execution_count": 3,
   "metadata": {},
   "outputs": [
    {
     "name": "stdout",
     "output_type": "stream",
     "text": [
      "100\n",
      "200\n",
      "300\n",
      "400\n",
      "500\n",
      "600\n",
      "700\n",
      "800\n",
      "900\n",
      "1000\n"
     ]
    }
   ],
   "source": [
    "# 5.19 (Calculate the value of pi)\n",
    "# Using infinite series\n",
    "\n",
    "# Declare the sum of the infinite series\n",
    "# Declare the numerator to be 4\n",
    "# Declare the denominator to be 1\n",
    "# Increment the denominator by 2\n",
    "# Declare the sign variable to be positive one, \n",
    "# multiple by -1 per iteration (so it will flip to opposite sign)\n",
    "\n",
    "# Check if the loop count / 100 = 0\n",
    "# Implement using the mod function"
   ]
  },
  {
   "cell_type": "code",
   "execution_count": 1,
   "metadata": {},
   "outputs": [],
   "source": [
    "# 5.20 (Pythagorean Triple)\n",
    "# Find all Pythagorean triples for side1, side2 and hypotenuse all\n",
    "# no longer than 500. Use a triple-nested for loop that tries all\n",
    "# possibilities. This is an example of brute force computing.\n",
    "\n",
    "# Pythagorean Theorem: a^2 + b^2 = c^2 (c=hypotenuse)\n",
    "# Take 3 values, a, b, c\n",
    "# Square each values, add a and b, compare with c\n",
    "# if equal, it is a triangle\n",
    "# else it is not a triangle"
   ]
  },
  {
   "cell_type": "code",
   "execution_count": 8,
   "metadata": {},
   "outputs": [
    {
     "name": "stdout",
     "output_type": "stream",
     "text": [
      "--- 135.31250286102295 seconds ---\n"
     ]
    }
   ],
   "source": [
    "# This is how you measure your program\n",
    "import time\n",
    "start_time = time.time()\n",
    "\n",
    "##########################################################\n",
    "outfile = open('result.txt', 'w')\n",
    "\n",
    "for a in range(1, 501):\n",
    "    for b in range(1, 501):\n",
    "        for c in range(1, 501):\n",
    "            if (a**2 + b**2) == c**2:\n",
    "                outfile.write('a: {0:3}, b: {1:3}, c: {2:3}\\n'.format(a, b, c))\n",
    "                \n",
    "outfile.close()\n",
    "##########################################################\n",
    "\n",
    "print(\"--- %s seconds ---\" % (time.time() - start_time))"
   ]
  },
  {
   "cell_type": "code",
   "execution_count": 9,
   "metadata": {},
   "outputs": [
    {
     "name": "stdout",
     "output_type": "stream",
     "text": [
      "--- 137.13461089134216 seconds ---\n"
     ]
    }
   ],
   "source": [
    "import time\n",
    "start_time = time.time()\n",
    "\n",
    "outfile = open('result.txt', 'w')\n",
    "buffer = ''\n",
    "\n",
    "for a in range(1, 501):\n",
    "    for b in range(1, 501):\n",
    "        for c in range(1, 501):\n",
    "            if (a**2 + b**2) == c**2:\n",
    "                buffer = buffer + 'a:{0:3}, b:{1:3}, c:{2:3}\\n'.format(a, b, c)\n",
    "                \n",
    "outfile.write(buffer)\n",
    "outfile.close()\n",
    "print(\"--- %s seconds ---\" % (time.time() - start_time))"
   ]
  },
  {
   "cell_type": "code",
   "execution_count": 10,
   "metadata": {},
   "outputs": [
    {
     "name": "stdout",
     "output_type": "stream",
     "text": [
      "--- 0.8258068561553955 seconds ---\n"
     ]
    }
   ],
   "source": [
    "import time\n",
    "start_time = time.time()\n",
    "\n",
    "outfile = open('result.txt', 'w')\n",
    "buffer = ''\n",
    "\n",
    "for a in range(1, 101):\n",
    "    for b in range(1, 101):\n",
    "        new_start = a if (a<b) else b\n",
    "        for c in range(new_start, 101):\n",
    "            if (a**2 + b**2) == c**2:\n",
    "                buffer = buffer + 'a:{0:3}, b:{1:3}, c:{2:3}\\n'.format(a, b, c)\n",
    "                \n",
    "outfile.write(buffer)\n",
    "outfile.close()\n",
    "print(\"--- %s seconds ---\" % (time.time() - start_time))"
   ]
  },
  {
   "cell_type": "code",
   "execution_count": 12,
   "metadata": {},
   "outputs": [
    {
     "name": "stdout",
     "output_type": "stream",
     "text": [
      "--- 90.51166105270386 seconds ---\n"
     ]
    }
   ],
   "source": [
    "import time\n",
    "start_time = time.time()\n",
    "\n",
    "outfile = open('result.txt', 'w')\n",
    "buffer = ''\n",
    "\n",
    "for a in range(1, 501):\n",
    "    for b in range(1, 501):\n",
    "        new_start = a if (a<b) else b\n",
    "        for c in range(new_start, 501):\n",
    "            if (a**2 + b**2) == c**2:\n",
    "                buffer = buffer + 'a:{0:3}, b:{1:3}, c:{2:3}\\n'.format(a, b, c)\n",
    "                \n",
    "outfile.write(buffer)\n",
    "outfile.close()\n",
    "print(\"--- %s seconds ---\" % (time.time() - start_time))"
   ]
  },
  {
   "cell_type": "code",
   "execution_count": null,
   "metadata": {},
   "outputs": [],
   "source": []
  }
 ],
 "metadata": {
  "kernelspec": {
   "display_name": "Python 3",
   "language": "python",
   "name": "python3"
  },
  "language_info": {
   "codemirror_mode": {
    "name": "ipython",
    "version": 3
   },
   "file_extension": ".py",
   "mimetype": "text/x-python",
   "name": "python",
   "nbconvert_exporter": "python",
   "pygments_lexer": "ipython3",
   "version": "3.7.3"
  }
 },
 "nbformat": 4,
 "nbformat_minor": 2
}
