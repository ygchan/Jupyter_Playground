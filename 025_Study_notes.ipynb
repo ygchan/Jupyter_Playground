{
 "cells": [
  {
   "cell_type": "code",
   "execution_count": 1,
   "metadata": {},
   "outputs": [],
   "source": [
    "# Write a Java Program that can make change.\n",
    "# Your program should take two numbers as input, one that is\n",
    "# a montetary amount charged and other that is\n",
    "# a monetary amount given."
   ]
  },
  {
   "cell_type": "code",
   "execution_count": 2,
   "metadata": {},
   "outputs": [],
   "source": [
    "# It should returns the number of each kind of bill and\n",
    "# conin to give back as change for the difference between\n",
    "# amount given/ amount charged."
   ]
  },
  {
   "cell_type": "code",
   "execution_count": 3,
   "metadata": {},
   "outputs": [],
   "source": [
    "# Try to design your program so that it returns the fewest\n",
    "# number of bills and coins as possible."
   ]
  },
  {
   "cell_type": "code",
   "execution_count": 8,
   "metadata": {},
   "outputs": [],
   "source": [
    "# calculate how much was the difference"
   ]
  },
  {
   "cell_type": "code",
   "execution_count": 15,
   "metadata": {},
   "outputs": [],
   "source": [
    "# Program design document:\n",
    "\n",
    "# 01. ask user for charge amount as float\n",
    "# 02. ask user for given amount as float\n",
    "# 03. check if given amount < charge amount \n",
    "#       (if true) politely notifiy user and exit\n",
    "# 04. check if given amount = charge amount\n",
    "#       (if true) thank user and exit\n",
    "# 05. else calculate how much changes will be returned\n",
    "#     divide by the largest US currency to lowest\n",
    "#     subtract the return amount from the currency used\n",
    "#     use the mod function to get remainder\n",
    "#     $100, $50, $20, $10, $5, $1, $0.25, $0.10, $0.05, $0.01"
   ]
  },
  {
   "cell_type": "code",
   "execution_count": 42,
   "metadata": {},
   "outputs": [
    {
     "name": "stdout",
     "output_type": "stream",
     "text": [
      "Enter Charge Amount: 50\n",
      "Enter Given Amount: 10\n",
      "-40.0\n"
     ]
    }
   ],
   "source": [
    "charge_amt = float(input('Enter Charge Amount: '))\n",
    "given_amt = float(input('Enter Given Amount: '))\n",
    "\n",
    "return_amt = round((given_amt - charge_amt), 2)\n",
    "\n",
    "print(return_amt)"
   ]
  },
  {
   "cell_type": "code",
   "execution_count": 43,
   "metadata": {},
   "outputs": [
    {
     "name": "stdout",
     "output_type": "stream",
     "text": [
      "Amount to return:  42\n",
      "20.0       2\n",
      "1.0        2\n"
     ]
    }
   ],
   "source": [
    "charge_amt = 158\n",
    "given_amt = 200\n",
    "\n",
    "return_amt = round((given_amt - charge_amt), 2)\n",
    "\n",
    "bill_lists = [100.0, 50.0, 20.0, 10.0, 5.0, 1.0, 0.25, \n",
    "              0.10, 0.05]\n",
    "\n",
    "import math\n",
    "\n",
    "print('Amount to return: ', return_amt)\n",
    "\n",
    "for bill in bill_lists:\n",
    "    # how many of this bill will be returned\n",
    "    count = math.floor(return_amt / bill)\n",
    "    if count:\n",
    "        return_amt = return_amt - (bill * count)\n",
    "        print(str(bill).ljust(10), count)"
   ]
  },
  {
   "cell_type": "code",
   "execution_count": null,
   "metadata": {},
   "outputs": [],
   "source": []
  }
 ],
 "metadata": {
  "kernelspec": {
   "display_name": "Python 3",
   "language": "python",
   "name": "python3"
  },
  "language_info": {
   "codemirror_mode": {
    "name": "ipython",
    "version": 3
   },
   "file_extension": ".py",
   "mimetype": "text/x-python",
   "name": "python",
   "nbconvert_exporter": "python",
   "pygments_lexer": "ipython3",
   "version": "3.7.4"
  }
 },
 "nbformat": 4,
 "nbformat_minor": 2
}
