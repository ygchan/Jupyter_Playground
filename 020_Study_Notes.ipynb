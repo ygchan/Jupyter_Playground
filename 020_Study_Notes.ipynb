{
 "cells": [
  {
   "cell_type": "code",
   "execution_count": 2,
   "metadata": {},
   "outputs": [],
   "source": [
    "# P.208\n",
    "\n",
    "# 5.12 Write a function print_triangles that will take an \n",
    "# integer as arugment, and display the following.\n",
    "\n",
    "# Example:\n",
    "# print_triangles(5)\n",
    "# Size:  5 \n",
    "\n",
    "# *\n",
    "# **\n",
    "# ***\n",
    "# ****\n",
    "# *****\n",
    "\n",
    "# *****\n",
    "# ****\n",
    "# ***\n",
    "# **\n",
    "# *\n",
    "\n",
    "#  *****\n",
    "#   ****\n",
    "#    ***\n",
    "#     **\n",
    "#      *\n",
    "\n",
    "#      *\n",
    "#     **\n",
    "#    ***\n",
    "#   ****\n",
    "#  *****"
   ]
  },
  {
   "cell_type": "code",
   "execution_count": 56,
   "metadata": {},
   "outputs": [],
   "source": [
    "def print_triangles(level):\n",
    "    # Check for special cases\n",
    "    if level < 0:\n",
    "        print('Size must be at least 0')\n",
    "        return level\n",
    "    elif level == 0:\n",
    "        print('Nothing to show.')\n",
    "        return level\n",
    "    elif level == 1:\n",
    "        print('*\\n\\n*\\n\\n*\\n\\n*\\n\\n*')\n",
    "        return level\n",
    "    \n",
    "    # Display the size to the output\n",
    "    print('Size: ', level, '\\n')\n",
    "\n",
    "    # Normal triangles\n",
    "    for a in range(1, level + 1, 1):\n",
    "        print('*' * a)\n",
    "    \n",
    "    print()\n",
    "    \n",
    "    # Upside down triangles\n",
    "    for b in range(level, 0, -1):\n",
    "        print('*' * b)\n",
    "    \n",
    "    print()\n",
    "    \n",
    "    # Negative space upside down triangles\n",
    "    for d in range(level, 0, -1):\n",
    "        spaces = level - d\n",
    "        print(' ' * spaces, '*' * d)\n",
    "    \n",
    "    print()\n",
    "    \n",
    "    # Negative space normal triangles\n",
    "    for c in range(1, level + 1, 1):\n",
    "        spaces = level - c\n",
    "        print(' ' * spaces, '*' * c)\n",
    "    return level"
   ]
  },
  {
   "cell_type": "code",
   "execution_count": 61,
   "metadata": {},
   "outputs": [
    {
     "name": "stdout",
     "output_type": "stream",
     "text": [
      "Nothing to show.\n"
     ]
    },
    {
     "data": {
      "text/plain": [
       "0"
      ]
     },
     "execution_count": 61,
     "metadata": {},
     "output_type": "execute_result"
    }
   ],
   "source": [
    "print_triangles(0)"
   ]
  },
  {
   "cell_type": "code",
   "execution_count": 62,
   "metadata": {},
   "outputs": [
    {
     "name": "stdout",
     "output_type": "stream",
     "text": [
      "*\n",
      "\n",
      "*\n",
      "\n",
      "*\n",
      "\n",
      "*\n",
      "\n",
      "*\n"
     ]
    },
    {
     "data": {
      "text/plain": [
       "1"
      ]
     },
     "execution_count": 62,
     "metadata": {},
     "output_type": "execute_result"
    }
   ],
   "source": [
    "print_triangles(1)"
   ]
  },
  {
   "cell_type": "code",
   "execution_count": 63,
   "metadata": {},
   "outputs": [
    {
     "name": "stdout",
     "output_type": "stream",
     "text": [
      "Size:  5 \n",
      "\n",
      "*\n",
      "**\n",
      "***\n",
      "****\n",
      "*****\n",
      "\n",
      "*****\n",
      "****\n",
      "***\n",
      "**\n",
      "*\n",
      "\n",
      " *****\n",
      "  ****\n",
      "   ***\n",
      "    **\n",
      "     *\n",
      "\n",
      "     *\n",
      "    **\n",
      "   ***\n",
      "  ****\n",
      " *****\n"
     ]
    },
    {
     "data": {
      "text/plain": [
       "5"
      ]
     },
     "execution_count": 63,
     "metadata": {},
     "output_type": "execute_result"
    }
   ],
   "source": [
    "print_triangles(5)"
   ]
  }
 ],
 "metadata": {
  "kernelspec": {
   "display_name": "Python 3",
   "language": "python",
   "name": "python3"
  },
  "language_info": {
   "codemirror_mode": {
    "name": "ipython",
    "version": 3
   },
   "file_extension": ".py",
   "mimetype": "text/x-python",
   "name": "python",
   "nbconvert_exporter": "python",
   "pygments_lexer": "ipython3",
   "version": "3.7.3"
  }
 },
 "nbformat": 4,
 "nbformat_minor": 2
}
