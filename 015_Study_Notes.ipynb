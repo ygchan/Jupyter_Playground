{
 "cells": [
  {
   "cell_type": "code",
   "execution_count": 49,
   "metadata": {},
   "outputs": [],
   "source": [
    "# Write a simple dictionary called calculate_area\n",
    "# that has functions\n",
    "\n",
    "# square: length * width\n",
    "# circle: pi * radius^2\n",
    "# triangle: (1/2) * base * width\n",
    "\n",
    "# Please use lambda\n",
    "\n",
    "# Example of how to import from other standard libraries\n",
    "from math import pi, pow"
   ]
  },
  {
   "cell_type": "code",
   "execution_count": 50,
   "metadata": {},
   "outputs": [
    {
     "data": {
      "text/plain": [
       "3.141592653589793"
      ]
     },
     "execution_count": 50,
     "metadata": {},
     "output_type": "execute_result"
    }
   ],
   "source": [
    "pi"
   ]
  },
  {
   "cell_type": "code",
   "execution_count": 51,
   "metadata": {},
   "outputs": [],
   "source": [
    "# An dictionary that contains 3 functions\n",
    "calculate_area = {\n",
    "    'square': lambda length, width: length * width,\n",
    "    'circle': lambda radius: pi * pow(radius, 2),\n",
    "    'triangle': lambda base, width: (1 / 2) * base * width\n",
    "}"
   ]
  },
  {
   "cell_type": "code",
   "execution_count": 52,
   "metadata": {},
   "outputs": [
    {
     "name": "stdout",
     "output_type": "stream",
     "text": [
      "square: 4\n"
     ]
    }
   ],
   "source": [
    "print('square:', calculate_area['square'](2, 2))"
   ]
  },
  {
   "cell_type": "code",
   "execution_count": 53,
   "metadata": {},
   "outputs": [
    {
     "name": "stdout",
     "output_type": "stream",
     "text": [
      "circle: 78.53981633974483\n"
     ]
    }
   ],
   "source": [
    "print('circle:', calculate_area['circle'](5))"
   ]
  },
  {
   "cell_type": "code",
   "execution_count": 54,
   "metadata": {
    "scrolled": true
   },
   "outputs": [
    {
     "name": "stdout",
     "output_type": "stream",
     "text": [
      "triangle: 12.5\n"
     ]
    }
   ],
   "source": [
    "print('triangle:', calculate_area['triangle'](5, 5))"
   ]
  },
  {
   "cell_type": "code",
   "execution_count": 55,
   "metadata": {},
   "outputs": [],
   "source": [
    "# Discussion about file systems\n",
    "# OS: Miscellaneous operating system interfaces\n",
    "import os"
   ]
  },
  {
   "cell_type": "code",
   "execution_count": 56,
   "metadata": {},
   "outputs": [
    {
     "data": {
      "text/plain": [
       "'/Users/Study'"
      ]
     },
     "execution_count": 56,
     "metadata": {},
     "output_type": "execute_result"
    }
   ],
   "source": [
    "# Ask Python to tell you what folder this (program)\n",
    "# is stored at\n",
    "\n",
    "# CWD: Get Current Working Directory\n",
    "# In Window, we have double \\\\, because a single \\ character\n",
    "# represent escape sequence - to allow you to type special\n",
    "# characters otherwise not permitted.\n",
    "os.getcwd()"
   ]
  },
  {
   "cell_type": "code",
   "execution_count": 57,
   "metadata": {},
   "outputs": [
    {
     "name": "stdout",
     "output_type": "stream",
     "text": [
      "C:\\Users\\gchan\n"
     ]
    }
   ],
   "source": [
    "# In window if you want to create a path.\n",
    "# There are two ways\n",
    "\n",
    "# Method 1 - using escape sequence\n",
    "my_path = 'C:\\\\Users\\\\gchan'\n",
    "print(my_path)"
   ]
  },
  {
   "cell_type": "code",
   "execution_count": 58,
   "metadata": {},
   "outputs": [
    {
     "name": "stdout",
     "output_type": "stream",
     "text": [
      "C:\\Users\\gchan\n"
     ]
    }
   ],
   "source": [
    "# Method 2 - more convenience, using raw string\n",
    "my_path2 = r'C:\\Users\\gchan'\n",
    "print(my_path2)"
   ]
  },
  {
   "cell_type": "code",
   "execution_count": 59,
   "metadata": {},
   "outputs": [
    {
     "data": {
      "text/plain": [
       "True"
      ]
     },
     "execution_count": 59,
     "metadata": {},
     "output_type": "execute_result"
    }
   ],
   "source": [
    "# compare they are the same string (folder/file)\n",
    "my_path == my_path2"
   ]
  },
  {
   "cell_type": "code",
   "execution_count": 60,
   "metadata": {},
   "outputs": [
    {
     "name": "stdout",
     "output_type": "stream",
     "text": [
      "There are 121 items.\n"
     ]
    },
    {
     "data": {
      "text/plain": [
       "['005_Study_Note.ipynb',\n",
       " '.config',\n",
       " 'Music',\n",
       " 'document.pdf',\n",
       " 'UpWork_001.ipynb',\n",
       " '.condarc',\n",
       " '201902-citibike-tripdata.csv',\n",
       " 'Python_08.ipynb',\n",
       " 'Untitled1.ipynb',\n",
       " 'hello_world.py']"
      ]
     },
     "execution_count": 60,
     "metadata": {},
     "output_type": "execute_result"
    }
   ],
   "source": [
    "my_items = os.listdir(os.curdir)\n",
    "print('There are', len(my_items), 'items.')\n",
    "\n",
    "# Sample a few items\n",
    "my_items[:10]"
   ]
  },
  {
   "cell_type": "code",
   "execution_count": 61,
   "metadata": {},
   "outputs": [
    {
     "name": "stdout",
     "output_type": "stream",
     "text": [
      "File Count: 100\n",
      "Folder Count: 21\n"
     ]
    }
   ],
   "source": [
    "# Simple program to count how many file/programs are there\n",
    "count_of_file = 0\n",
    "count_of_folder = 0\n",
    "\n",
    "# Looping that list\n",
    "for item in os.listdir(os.curdir):\n",
    "    if '.' in item:\n",
    "        count_of_file += 1\n",
    "    else:\n",
    "        count_of_folder += 1\n",
    "\n",
    "print('File Count:', count_of_file)\n",
    "print('Folder Count:', count_of_folder)"
   ]
  },
  {
   "cell_type": "code",
   "execution_count": 62,
   "metadata": {},
   "outputs": [
    {
     "name": "stdout",
     "output_type": "stream",
     "text": [
      "In path: /Users/Study\n",
      "File Count   =  100\n",
      "Folder Count =  21\n"
     ]
    }
   ],
   "source": [
    "def Count_File_Folder(path):\n",
    "    file_count = 0\n",
    "    folder_count = 0\n",
    "    \n",
    "    for item in os.listdir(path):\n",
    "        if '.' in item:\n",
    "            file_count += 1\n",
    "        else:\n",
    "            folder_count += 1\n",
    "    \n",
    "    print('In path:', os.path.abspath(path))\n",
    "    print('File Count   = ', file_count)\n",
    "    print('Folder Count = ', folder_count)\n",
    "    \n",
    "# Inovke it\n",
    "Count_File_Folder(os.curdir)\n",
    "\n",
    "# Desired output\n",
    "# File Count: 100\n",
    "# Folder Count: 21"
   ]
  }
 ],
 "metadata": {
  "kernelspec": {
   "display_name": "Python 3",
   "language": "python",
   "name": "python3"
  },
  "language_info": {
   "codemirror_mode": {
    "name": "ipython",
    "version": 3
   },
   "file_extension": ".py",
   "mimetype": "text/x-python",
   "name": "python",
   "nbconvert_exporter": "python",
   "pygments_lexer": "ipython3",
   "version": "3.7.3"
  }
 },
 "nbformat": 4,
 "nbformat_minor": 2
}
