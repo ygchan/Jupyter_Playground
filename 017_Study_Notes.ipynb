{
 "cells": [
  {
   "cell_type": "code",
   "execution_count": 1,
   "metadata": {},
   "outputs": [],
   "source": [
    "# Skype video call with Vijaya at 8/13/2019"
   ]
  },
  {
   "cell_type": "code",
   "execution_count": 2,
   "metadata": {},
   "outputs": [],
   "source": [
    "import os\n",
    "# These are your file management related functions"
   ]
  },
  {
   "cell_type": "code",
   "execution_count": 4,
   "metadata": {},
   "outputs": [
    {
     "data": {
      "text/plain": [
       "'/Users/Study'"
      ]
     },
     "execution_count": 4,
     "metadata": {},
     "output_type": "execute_result"
    }
   ],
   "source": [
    "# This gives you the current work directory\n",
    "# where your current python program is stored in\n",
    "os.getcwd()"
   ]
  },
  {
   "cell_type": "code",
   "execution_count": 5,
   "metadata": {},
   "outputs": [],
   "source": [
    "# relative path\n",
    "# using your current directory as a starting point\n",
    "# ex: ./another_subfolder/myfile.txt\n",
    "\n",
    "# absolute path\n",
    "# complete path, including the hard-drive / shared-drive\n",
    "# C:\\\\User\\gchan\\Programs\\Python\\Scripts\\myfile.txt"
   ]
  },
  {
   "cell_type": "code",
   "execution_count": 6,
   "metadata": {},
   "outputs": [
    {
     "data": {
      "text/plain": [
       "'.'"
      ]
     },
     "execution_count": 6,
     "metadata": {},
     "output_type": "execute_result"
    }
   ],
   "source": [
    "# Constant variable\n",
    "os.curdir"
   ]
  },
  {
   "cell_type": "code",
   "execution_count": 9,
   "metadata": {},
   "outputs": [
    {
     "data": {
      "text/plain": [
       "['005_Study_Note.ipynb',\n",
       " '.config',\n",
       " 'Music',\n",
       " 'document.pdf',\n",
       " 'UpWork_001.ipynb']"
      ]
     },
     "execution_count": 9,
     "metadata": {},
     "output_type": "execute_result"
    }
   ],
   "source": [
    "list_of_file = os.listdir(os.curdir)[:5]\n",
    "list_of_file"
   ]
  },
  {
   "cell_type": "code",
   "execution_count": 12,
   "metadata": {},
   "outputs": [
    {
     "data": {
      "text/plain": [
       "['005_Study_Note.ipynb',\n",
       " '.config',\n",
       " 'Music',\n",
       " 'document.pdf',\n",
       " 'UpWork_001.ipynb']"
      ]
     },
     "execution_count": 12,
     "metadata": {},
     "output_type": "execute_result"
    }
   ],
   "source": [
    "another_list_of_file = os.listdir('.')[:5]\n",
    "another_list_of_file"
   ]
  },
  {
   "cell_type": "code",
   "execution_count": 13,
   "metadata": {},
   "outputs": [],
   "source": [
    "# Change directory, \n",
    "# moving the position of your \"current folder\"\n",
    "# os.chdir('folder')\n",
    "os.chdir('./SQL')"
   ]
  },
  {
   "cell_type": "code",
   "execution_count": 14,
   "metadata": {},
   "outputs": [
    {
     "data": {
      "text/plain": [
       "'/Users/Study/SQL'"
      ]
     },
     "execution_count": 14,
     "metadata": {},
     "output_type": "execute_result"
    }
   ],
   "source": [
    "# Now our current work directory is changed!!\n",
    "# This is confirming that it worked. :)\n",
    "os.getcwd()"
   ]
  },
  {
   "cell_type": "code",
   "execution_count": 15,
   "metadata": {},
   "outputs": [],
   "source": [
    "# I want Vijaya you to list the files in the SQL folder\n",
    "# What is the code?"
   ]
  },
  {
   "cell_type": "code",
   "execution_count": 19,
   "metadata": {},
   "outputs": [
    {
     "data": {
      "text/plain": [
       "['Ch_99_SQL_Toolbox.sql',\n",
       " 'Ch_11_Conditional_Logic.sql',\n",
       " 'Ch_10_Joins_Revisited.sql',\n",
       " 'Ch_09_Subqeries.sql',\n",
       " 'Ch_08_Group_Aggregates.sql',\n",
       " 'Ch_07_Data_Manipulation.sql',\n",
       " 'Ch_06_Sets.sql',\n",
       " 'Ch_05_Query_Mult_Tables.sql',\n",
       " 'Ch_04_Filtering.sql',\n",
       " 'Ch_03_Query_Primer.sql',\n",
       " 'Ch_02_Creating_Database.sql',\n",
       " 'Ch_01_Summary.sql',\n",
       " '.git',\n",
       " '.DS_Store']"
      ]
     },
     "execution_count": 19,
     "metadata": {},
     "output_type": "execute_result"
    }
   ],
   "source": [
    "sql_file = os.listdir(os.getcwd())\n",
    "sorted(sql_file, reverse=True)"
   ]
  },
  {
   "cell_type": "code",
   "execution_count": null,
   "metadata": {},
   "outputs": [],
   "source": [
    "# Review slice, replace function\n",
    "# Putting everything together into a function."
   ]
  }
 ],
 "metadata": {
  "kernelspec": {
   "display_name": "Python 3",
   "language": "python",
   "name": "python3"
  },
  "language_info": {
   "codemirror_mode": {
    "name": "ipython",
    "version": 3
   },
   "file_extension": ".py",
   "mimetype": "text/x-python",
   "name": "python",
   "nbconvert_exporter": "python",
   "pygments_lexer": "ipython3",
   "version": "3.7.3"
  }
 },
 "nbformat": 4,
 "nbformat_minor": 2
}
