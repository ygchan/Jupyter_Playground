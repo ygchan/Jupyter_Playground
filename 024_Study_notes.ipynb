{
 "cells": [
  {
   "cell_type": "code",
   "execution_count": 28,
   "metadata": {},
   "outputs": [
    {
     "name": "stdout",
     "output_type": "stream",
     "text": [
      "Main Function\n",
      "\n",
      "1 2\n",
      "George Chan\n",
      "\n",
      "larger_number is 2\n",
      "27\n",
      "0\n"
     ]
    }
   ],
   "source": [
    "# Pair programming with Vijaya over Skype 9PM-10:30PM\n",
    "# Go through how to define main function\n",
    "\n",
    "def main():\n",
    "    print(\"Main Function\")\n",
    "    print()\n",
    "    \n",
    "if __name__ == \"__main__\":\n",
    "    main()\n",
    "\n",
    "# How to assign multiple variables at once\n",
    "x, y = 1, 2\n",
    "first_name, last_name = \"George\", \"Chan\"\n",
    "\n",
    "print(x, y)\n",
    "print(first_name, last_name)\n",
    "print()\n",
    "\n",
    "# How to write a conditional statement?\n",
    "larger_number = x if (x > y) else y\n",
    "print(\"larger_number is\", larger_number)\n",
    "\n",
    "# Define function with variable number of arugments\n",
    "def multi_add(*numbers):\n",
    "    result = 0\n",
    "    \n",
    "    for number in numbers:\n",
    "        result = result + number        \n",
    "    return result\n",
    "\n",
    "print(multi_add(2, 2, 4, 5, 6, 8))\n",
    "print(multi_add())"
   ]
  },
  {
   "cell_type": "code",
   "execution_count": 26,
   "metadata": {},
   "outputs": [
    {
     "name": "stdout",
     "output_type": "stream",
     "text": [
      "4\n",
      "500\n",
      "1\n"
     ]
    }
   ],
   "source": [
    "# Write a python function that return the second largest number\n",
    "def get_second_max(*numbers):\n",
    "    return sorted([*numbers])[-2]\n",
    "\n",
    "print(get_second_max(2, 3, 4, 5))\n",
    "print(get_second_max(400, 200, 500, 100, 1000))\n",
    "print(get_second_max(1, 2))"
   ]
  },
  {
   "cell_type": "code",
   "execution_count": 27,
   "metadata": {},
   "outputs": [
    {
     "name": "stdout",
     "output_type": "stream",
     "text": [
      "4\n",
      "500\n",
      "1\n",
      "None\n"
     ]
    }
   ],
   "source": [
    "# How to improve the program?\n",
    "def get_second_max(*numbers):\n",
    "    '''\n",
    "    Function that returns the second largest number\n",
    "    \n",
    "    If user provide no numbers, it return None (Nothing),\n",
    "    Else if user provide 1 number, return that number,\n",
    "    Else sort it and get the second max number.\n",
    "    '''\n",
    "\n",
    "    if len([*numbers]) == 0:\n",
    "        return None\n",
    "    elif len([*numbers]) == 1:\n",
    "        return [*numbers][0]\n",
    "    else:\n",
    "        return sorted([*numbers])[-2]\n",
    "\n",
    "# Testing functions\n",
    "print(get_second_max(2, 3, 4, 5))\n",
    "print(get_second_max(400, 200, 500, 100, 1000))\n",
    "print(get_second_max(1, 2))\n",
    "print(get_second_max())"
   ]
  },
  {
   "cell_type": "code",
   "execution_count": null,
   "metadata": {},
   "outputs": [],
   "source": []
  }
 ],
 "metadata": {
  "kernelspec": {
   "display_name": "Python 3",
   "language": "python",
   "name": "python3"
  },
  "language_info": {
   "codemirror_mode": {
    "name": "ipython",
    "version": 3
   },
   "file_extension": ".py",
   "mimetype": "text/x-python",
   "name": "python",
   "nbconvert_exporter": "python",
   "pygments_lexer": "ipython3",
   "version": "3.7.3"
  }
 },
 "nbformat": 4,
 "nbformat_minor": 2
}
