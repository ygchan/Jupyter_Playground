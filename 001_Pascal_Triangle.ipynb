{
 "cells": [
  {
   "cell_type": "code",
   "execution_count": 1,
   "metadata": {},
   "outputs": [
    {
     "name": "stdout",
     "output_type": "stream",
     "text": [
      "What is the size of the triangle you like (0-10): 5\n"
     ]
    }
   ],
   "source": [
    "# This is a classical 100 level programming puzzle.\n",
    "# I was chatting with a friendly coworker about random problems.\n",
    "# Just have to code it up :) \n",
    "\n",
    "# pretty print to print list nicely\n",
    "import pprint\n",
    "\n",
    "sizeString = input('What is the size of the triangle you like (0-10): ')\n",
    "sizeNumber = int(sizeString)"
   ]
  },
  {
   "cell_type": "code",
   "execution_count": 2,
   "metadata": {},
   "outputs": [
    {
     "name": "stdout",
     "output_type": "stream",
     "text": [
      "    1 \n",
      "   1 1 \n",
      "  1 1 1 \n",
      " 1 1 1 1 \n",
      "1 1 1 1 1 \n"
     ]
    }
   ],
   "source": [
    "# This is the easier version, since the triangle is all 1's\n",
    "for row in range(1, sizeNumber + 1):\n",
    "    # The leading space before the first character\n",
    "    number_of_space = \" \" * (sizeNumber - row)\n",
    "    # Using end parameter to stop from printing new line\n",
    "    print(number_of_space, end='')\n",
    "    \n",
    "    # Base on the row position and complete the line\n",
    "    for column in range (1, row + 1):\n",
    "        print('1', end=' ')\n",
    "    \n",
    "    # Print new line\n",
    "    print()"
   ]
  },
  {
   "cell_type": "code",
   "execution_count": 3,
   "metadata": {},
   "outputs": [
    {
     "name": "stdout",
     "output_type": "stream",
     "text": [
      "\n",
      "Computed Matrix Array: \n",
      "[   [1, 0, 0, 0, 0],\n",
      "    [1, 1, 0, 0, 0],\n",
      "    [1, 2, 1, 0, 0],\n",
      "    [1, 3, 3, 1, 0],\n",
      "    [1, 4, 6, 4, 1]]\n",
      "\n",
      "\n",
      "The entire triangle:\n",
      "     1 \n",
      "    1 1 \n",
      "   1 2 1 \n",
      "  1 3 3 1 \n",
      " 1 4 6 4 1 \n"
     ]
    }
   ],
   "source": [
    "# Now for the actual version.\n",
    "# Without googling the math, this is the solution I came up with :)\n",
    "\n",
    "# Declare a 2D matrix\n",
    "w, h = sizeNumber, sizeNumber;\n",
    "myMatrix = [[0 for x in range(w)] for y in range(h)]\n",
    "\n",
    "pp = pprint.PrettyPrinter(indent=4)\n",
    "# print('Before: ')\n",
    "# pp.pprint(myMatrix)\n",
    "\n",
    "for row in range(sizeNumber + 1):\n",
    "    if row == 0:\n",
    "        myMatrix[row][0] = 0\n",
    "    else:\n",
    "        for column in range(row):\n",
    "            if column == 0:\n",
    "                myMatrix[row-1][column] = 1\n",
    "            else:\n",
    "                num1 = myMatrix[row-2][column-1]\n",
    "                num2 = myMatrix[row-2][column]\n",
    "                myMatrix[row-1][column] = num1 + num2\n",
    "\n",
    "print('\\nComputed Matrix Array: ')\n",
    "pp.pprint(myMatrix)\n",
    "print()\n",
    "\n",
    "print('\\nThe entire triangle:')\n",
    "for row in range(1, sizeNumber + 1):\n",
    "    negative_space = \" \" * (sizeNumber + 1 - row)\n",
    "    print(negative_space, end = '')\n",
    "\n",
    "    for column in range(row):\n",
    "        # How to print without adding a newline\n",
    "        # Reference: https://www.geeksforgeeks.org/print-without-newline-python/\n",
    "        myValue = myMatrix[row-1][column]\n",
    "        print(str(myValue), end =\" \")\n",
    "\n",
    "    # Only at the end of the loop we add a newline character.\n",
    "    print()"
   ]
  }
 ],
 "metadata": {
  "kernelspec": {
   "display_name": "Python 3",
   "language": "python",
   "name": "python3"
  },
  "language_info": {
   "codemirror_mode": {
    "name": "ipython",
    "version": 3
   },
   "file_extension": ".py",
   "mimetype": "text/x-python",
   "name": "python",
   "nbconvert_exporter": "python",
   "pygments_lexer": "ipython3",
   "version": "3.7.0"
  }
 },
 "nbformat": 4,
 "nbformat_minor": 2
}
