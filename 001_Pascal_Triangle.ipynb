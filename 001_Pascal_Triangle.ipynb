{
 "cells": [
  {
   "cell_type": "code",
   "execution_count": 6,
   "metadata": {},
   "outputs": [
    {
     "name": "stdout",
     "output_type": "stream",
     "text": [
      "What is the size of the triangle you like (0-10): 10\n"
     ]
    }
   ],
   "source": [
    "# This is a classical 100 level programming puzzle.\n",
    "# I was chatting with a friendly coworker about random problems.\n",
    "# Just have to code it up :) \n",
    "\n",
    "\n",
    "sizeString = input('What is the size of the triangle you like (0-10): ')\n",
    "sizeNumber = int(sizeString)"
   ]
  },
  {
   "cell_type": "code",
   "execution_count": 7,
   "metadata": {},
   "outputs": [
    {
     "name": "stdout",
     "output_type": "stream",
     "text": [
      "         1 \n",
      "        1 1 \n",
      "       1 1 1 \n",
      "      1 1 1 1 \n",
      "     1 1 1 1 1 \n",
      "    1 1 1 1 1 1 \n",
      "   1 1 1 1 1 1 1 \n",
      "  1 1 1 1 1 1 1 1 \n",
      " 1 1 1 1 1 1 1 1 1 \n",
      "1 1 1 1 1 1 1 1 1 1 \n"
     ]
    }
   ],
   "source": [
    "# This is the easier version, since the triangle is all 1's\n",
    "for row in range(1, sizeNumber + 1):\n",
    "    # The leading space before the first character\n",
    "    number_of_space = \" \" * (sizeNumber - row)\n",
    "    # Using end parameter to stop from printing new line\n",
    "    print(number_of_space, end='')\n",
    "    \n",
    "    # Base on the row position and complete the line\n",
    "    for column in range (1, row + 1):\n",
    "        print('1', end=' ')\n",
    "    \n",
    "    # Print new line\n",
    "    print()"
   ]
  },
  {
   "cell_type": "code",
   "execution_count": null,
   "metadata": {},
   "outputs": [],
   "source": []
  }
 ],
 "metadata": {
  "kernelspec": {
   "display_name": "Python 3",
   "language": "python",
   "name": "python3"
  },
  "language_info": {
   "codemirror_mode": {
    "name": "ipython",
    "version": 3
   },
   "file_extension": ".py",
   "mimetype": "text/x-python",
   "name": "python",
   "nbconvert_exporter": "python",
   "pygments_lexer": "ipython3",
   "version": "3.7.3"
  }
 },
 "nbformat": 4,
 "nbformat_minor": 2
}
