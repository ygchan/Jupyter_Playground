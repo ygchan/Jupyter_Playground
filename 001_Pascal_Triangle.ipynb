{
 "cells": [
  {
   "cell_type": "code",
   "execution_count": 16,
   "metadata": {},
   "outputs": [
    {
     "name": "stdout",
     "output_type": "stream",
     "text": [
      "What is the size of the triangle you like (0-10): 10\n"
     ]
    }
   ],
   "source": [
    "# This is a classical 100 level programming puzzle.\n",
    "# I was chatting with a friendly coworker about random problems.\n",
    "# Just have to code it up :) \n",
    "\n",
    "# pretty print to print list nicely\n",
    "import pprint\n",
    "\n",
    "sizeString = input('What is the size of the triangle you like (0-10): ')\n",
    "sizeNumber = int(sizeString)"
   ]
  },
  {
   "cell_type": "code",
   "execution_count": 7,
   "metadata": {},
   "outputs": [
    {
     "name": "stdout",
     "output_type": "stream",
     "text": [
      "         1 \n",
      "        1 1 \n",
      "       1 1 1 \n",
      "      1 1 1 1 \n",
      "     1 1 1 1 1 \n",
      "    1 1 1 1 1 1 \n",
      "   1 1 1 1 1 1 1 \n",
      "  1 1 1 1 1 1 1 1 \n",
      " 1 1 1 1 1 1 1 1 1 \n",
      "1 1 1 1 1 1 1 1 1 1 \n"
     ]
    }
   ],
   "source": [
    "# This is the easier version, since the triangle is all 1's\n",
    "for row in range(1, sizeNumber + 1):\n",
    "    # The leading space before the first character\n",
    "    number_of_space = \" \" * (sizeNumber - row)\n",
    "    # Using end parameter to stop from printing new line\n",
    "    print(number_of_space, end='')\n",
    "    \n",
    "    # Base on the row position and complete the line\n",
    "    for column in range (1, row + 1):\n",
    "        print('1', end=' ')\n",
    "    \n",
    "    # Print new line\n",
    "    print()"
   ]
  },
  {
   "cell_type": "code",
   "execution_count": 12,
   "metadata": {},
   "outputs": [
    {
     "name": "stdout",
     "output_type": "stream",
     "text": [
      "[0, 0, 0, 0, 0, 0, 0, 0, 0, 0]\n"
     ]
    }
   ],
   "source": [
    "\n",
    "# Now for the actual version.\n",
    "# Without googling it, this is the solution I came up with :)\n",
    "inner_list = [0] * sizeNumber\n",
    "print(inner_list)"
   ]
  },
  {
   "cell_type": "code",
   "execution_count": 18,
   "metadata": {},
   "outputs": [
    {
     "name": "stdout",
     "output_type": "stream",
     "text": [
      "[   [0, 0, 0, 0, 0, 0, 0, 0, 0, 0],\n",
      "    [0, 0, 0, 0, 0, 0, 0, 0, 0, 0],\n",
      "    [0, 0, 0, 0, 0, 0, 0, 0, 0, 0],\n",
      "    [0, 0, 0, 0, 0, 0, 0, 0, 0, 0],\n",
      "    [0, 0, 0, 0, 0, 0, 0, 0, 0, 0],\n",
      "    [0, 0, 0, 0, 0, 0, 0, 0, 0, 0],\n",
      "    [0, 0, 0, 0, 0, 0, 0, 0, 0, 0],\n",
      "    [0, 0, 0, 0, 0, 0, 0, 0, 0, 0],\n",
      "    [0, 0, 0, 0, 0, 0, 0, 0, 0, 0],\n",
      "    [0, 0, 0, 0, 0, 0, 0, 0, 0, 0]]\n"
     ]
    }
   ],
   "source": [
    "# pascal_list is a list of a list\n",
    "pascal_list = []\n",
    "\n",
    "for i in range(sizeNumber):\n",
    "    pascal_list.append(inner_list)\n",
    "    \n",
    "# Reference: https://docs.python.org/3/library/pprint.html\n",
    "pp = pprint.PrettyPrinter(indent=4)\n",
    "pp.pprint(pascal_list)"
   ]
  },
  {
   "cell_type": "code",
   "execution_count": null,
   "metadata": {},
   "outputs": [],
   "source": [
    "# To be continue"
   ]
  }
 ],
 "metadata": {
  "kernelspec": {
   "display_name": "Python 3",
   "language": "python",
   "name": "python3"
  },
  "language_info": {
   "codemirror_mode": {
    "name": "ipython",
    "version": 3
   },
   "file_extension": ".py",
   "mimetype": "text/x-python",
   "name": "python",
   "nbconvert_exporter": "python",
   "pygments_lexer": "ipython3",
   "version": "3.7.3"
  }
 },
 "nbformat": 4,
 "nbformat_minor": 2
}
