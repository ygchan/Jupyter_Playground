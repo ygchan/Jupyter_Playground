{
 "cells": [
  {
   "cell_type": "code",
   "execution_count": 5,
   "metadata": {},
   "outputs": [
    {
     "name": "stdout",
     "output_type": "stream",
     "text": [
      "3\n",
      "5\n",
      "5\n"
     ]
    }
   ],
   "source": [
    "# Quick Review\n",
    "# We did function\n",
    "\n",
    "# How to define function\n",
    "# Notice x is positional arugment\n",
    "# and y is keyword arugment (y is optional)\n",
    "def add(x, y=0):\n",
    "    \"\"\"Adding two numbers\"\"\"\n",
    "    return x + y\n",
    "\n",
    "# Different ways to inovke (call your function)\n",
    "print(add(1, 2))\n",
    "print(add(5))\n",
    "print(add(0, y=5))"
   ]
  },
  {
   "cell_type": "code",
   "execution_count": 4,
   "metadata": {},
   "outputs": [],
   "source": [
    "# What are the mutatble and immutable types?\n",
    "# mutable type: list, dict, and set\n",
    "# immutable stype: str, int, float"
   ]
  },
  {
   "cell_type": "code",
   "execution_count": 10,
   "metadata": {},
   "outputs": [],
   "source": [
    "# Two simple functions\n",
    "\n",
    "# To convert temperatures in degrees Fahrenheit to Celsius, \n",
    "# subtract 32 and multiply by .5556 (or 5/9).\n",
    "def f_to_celsius(degree_f):\n",
    "    return (degree_f - 32) * (5 / 9)\n",
    "\n",
    "# To convert temperatures in degrees Celsius to Fahrenheit, \n",
    "# multiply by 1.8 (or 9/5) and add 32.\n",
    "def c_to_fahreneit(degree_c):\n",
    "    return degree_c * (9 / 5) + 32"
   ]
  },
  {
   "cell_type": "code",
   "execution_count": 13,
   "metadata": {},
   "outputs": [
    {
     "name": "stdout",
     "output_type": "stream",
     "text": [
      "30.555555555555557\n"
     ]
    }
   ],
   "source": [
    "print(f_to_celsius(87))"
   ]
  },
  {
   "cell_type": "code",
   "execution_count": 11,
   "metadata": {},
   "outputs": [
    {
     "name": "stdout",
     "output_type": "stream",
     "text": [
      "87.02600000000001\n"
     ]
    }
   ],
   "source": [
    "print(c_to_fahreneit(30.57))"
   ]
  },
  {
   "cell_type": "code",
   "execution_count": 15,
   "metadata": {},
   "outputs": [],
   "source": [
    "# Making a toolbox and associate the functions \n",
    "# we just created.\n",
    "toolbox = {\n",
    "    'f': f_to_celsius,\n",
    "    'c': c_to_fahreneit\n",
    "}"
   ]
  },
  {
   "cell_type": "code",
   "execution_count": 22,
   "metadata": {},
   "outputs": [
    {
     "name": "stdout",
     "output_type": "stream",
     "text": [
      "Convert 87F to C:  31 .\n"
     ]
    }
   ],
   "source": [
    "print('Convert 87F to C: ', round(toolbox['f'](87)), '.')"
   ]
  },
  {
   "cell_type": "code",
   "execution_count": 23,
   "metadata": {},
   "outputs": [
    {
     "name": "stdout",
     "output_type": "stream",
     "text": [
      "Convert 30.57C to F: 87 .\n"
     ]
    }
   ],
   "source": [
    "print('Convert 30.57C to F:', round(toolbox['c'](30.57)), '.')"
   ]
  },
  {
   "cell_type": "code",
   "execution_count": 28,
   "metadata": {},
   "outputs": [
    {
     "name": "stdout",
     "output_type": "stream",
     "text": [
      "Convert 87F to C: 31.\n"
     ]
    }
   ],
   "source": [
    "print('Convert 87F to C: {0}.'.format(\n",
    "    round(toolbox['f'](87)))\n",
    ")"
   ]
  },
  {
   "cell_type": "code",
   "execution_count": 32,
   "metadata": {},
   "outputs": [],
   "source": [
    "# Lambda Expression\n",
    "# A short hand for writing one line function\n",
    "# Lamdba is used when you want to pass a function to another function\n",
    "toolbox = {\n",
    "    # def f_to_celsius(degree_f):\n",
    "    #    return (degree_f - 32) * (5 / 9)\n",
    "    #                                            Comma!\n",
    "    'f': lambda degree_f: (degree_f - 32) * (5 / 9),\n",
    "    \n",
    "    # def c_to_fahreneit(degree_c):\n",
    "    #    return degree_c * (9 / 5) + 32\n",
    "    'c': lambda degree_c: degree_c * (9 / 5) +32\n",
    "}"
   ]
  },
  {
   "cell_type": "code",
   "execution_count": 33,
   "metadata": {},
   "outputs": [
    {
     "name": "stdout",
     "output_type": "stream",
     "text": [
      "30.555555555555557\n"
     ]
    }
   ],
   "source": [
    "print(toolbox['f'](87))"
   ]
  },
  {
   "cell_type": "code",
   "execution_count": 34,
   "metadata": {},
   "outputs": [
    {
     "name": "stdout",
     "output_type": "stream",
     "text": [
      "87.02600000000001\n"
     ]
    }
   ],
   "source": [
    "print(toolbox['c'](30.57))"
   ]
  },
  {
   "cell_type": "code",
   "execution_count": 36,
   "metadata": {},
   "outputs": [
    {
     "data": {
      "text/plain": [
       "3"
      ]
     },
     "execution_count": 36,
     "metadata": {},
     "output_type": "execute_result"
    }
   ],
   "source": [
    "def function_add_one(x):\n",
    "    return x + 1\n",
    "\n",
    "def function_2(take_a_fun):\n",
    "    return function_add_one() + 2\n",
    "\n",
    "function_2(function_add_one)"
   ]
  },
  {
   "cell_type": "code",
   "execution_count": 43,
   "metadata": {},
   "outputs": [
    {
     "name": "stdout",
     "output_type": "stream",
     "text": [
      "in deocrate function, myfunction\n"
     ]
    }
   ],
   "source": [
    "def decorate(func):\n",
    "    print('in deocrate function,', func.__name__)\n",
    "    def wrapper_func(*args):\n",
    "        print('executing', func.__name__)\n",
    "        return func(*args)\n",
    "    return wrapper_func\n",
    "\n",
    "def myfunction(parm):\n",
    "    print(parm)\n",
    "    \n",
    "myfunction = decorate(myfunction)"
   ]
  },
  {
   "cell_type": "code",
   "execution_count": 44,
   "metadata": {},
   "outputs": [
    {
     "name": "stdout",
     "output_type": "stream",
     "text": [
      "executing myfunction\n",
      "hello\n"
     ]
    }
   ],
   "source": [
    "myfunction('hello')"
   ]
  },
  {
   "cell_type": "code",
   "execution_count": null,
   "metadata": {},
   "outputs": [],
   "source": []
  }
 ],
 "metadata": {
  "kernelspec": {
   "display_name": "Python 3",
   "language": "python",
   "name": "python3"
  },
  "language_info": {
   "codemirror_mode": {
    "name": "ipython",
    "version": 3
   },
   "file_extension": ".py",
   "mimetype": "text/x-python",
   "name": "python",
   "nbconvert_exporter": "python",
   "pygments_lexer": "ipython3",
   "version": "3.7.3"
  }
 },
 "nbformat": 4,
 "nbformat_minor": 2
}
