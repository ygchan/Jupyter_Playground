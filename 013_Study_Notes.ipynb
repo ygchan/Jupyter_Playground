{
 "cells": [
  {
   "cell_type": "code",
   "execution_count": null,
   "metadata": {},
   "outputs": [],
   "source": [
    "# Python is always pass by reference\n",
    "# if the arugment is mutable, it can be changed inside\n",
    "# if the arugment is immutable, it be pass as a copy\n",
    "\n",
    "# Can change\n",
    "# mutable type: List, Set, Dict\n",
    "\n",
    "# Can't Change\n",
    "# imutable type: Int, Float, String, Tuple, Bool"
   ]
  },
  {
   "cell_type": "code",
   "execution_count": 5,
   "metadata": {},
   "outputs": [
    {
     "data": {
      "text/plain": [
       "5"
      ]
     },
     "execution_count": 5,
     "metadata": {},
     "output_type": "execute_result"
    }
   ],
   "source": [
    "# Example with Int\n",
    "mynum = 5\n",
    "mynum"
   ]
  },
  {
   "cell_type": "code",
   "execution_count": 6,
   "metadata": {},
   "outputs": [],
   "source": [
    "# You are re-assignment the variable to NEW int object\n",
    "mynum = 6"
   ]
  },
  {
   "cell_type": "code",
   "execution_count": 8,
   "metadata": {},
   "outputs": [],
   "source": [
    "# You can't change an Int\n",
    "# SyntaxError: can't assign to literal\n",
    "# 5 = 6"
   ]
  },
  {
   "cell_type": "code",
   "execution_count": 12,
   "metadata": {},
   "outputs": [
    {
     "name": "stdout",
     "output_type": "stream",
     "text": [
      "Before: [1, 2, 3]\n",
      "After:  [1, 2, 3, 4]\n"
     ]
    }
   ],
   "source": [
    "# Create a list\n",
    "my_list = [1, 2, 3]\n",
    "print('Before:', my_list)\n",
    "\n",
    "# Changing the list\n",
    "my_list.append(4)\n",
    "print('After: ', my_list)"
   ]
  },
  {
   "cell_type": "code",
   "execution_count": 15,
   "metadata": {},
   "outputs": [
    {
     "name": "stdout",
     "output_type": "stream",
     "text": [
      "In function n: -20\n",
      "But outside is not changed: 100\n"
     ]
    }
   ],
   "source": [
    "# Example of passing immutable type (Int) into function\n",
    "some_number = 100\n",
    "\n",
    "def some_function(n):\n",
    "    \"\"\"Print -20 to screen.\"\"\"\n",
    "    # Reassign -20 to variable n\"\n",
    "    # n is being referenced to a new integer object\n",
    "    # no longer the same as (some_number)\n",
    "    n = -20\n",
    "    print('In function n:', n)\n",
    "\n",
    "some_function(some_number)\n",
    "print('But outside is not changed:', some_number)"
   ]
  },
  {
   "cell_type": "code",
   "execution_count": 22,
   "metadata": {},
   "outputs": [
    {
     "name": "stdout",
     "output_type": "stream",
     "text": [
      "Before: 100\n",
      "In function: -20\n",
      "This is now changed: -20\n"
     ]
    }
   ],
   "source": [
    "# Changing the reference to the integer variable \n",
    "# outside of the function using Global Scope\n",
    "\n",
    "some_number = 100\n",
    "print('Before:', some_number)\n",
    "\n",
    "def some_function():\n",
    "    \"\"\"Print -20 to screen.\"\"\"\n",
    "    # Using global scope \n",
    "    global some_number\n",
    "    some_number = -20\n",
    "    print('In function:', some_number)\n",
    "\n",
    "some_function()\n",
    "print('This is now changed:', some_number)"
   ]
  },
  {
   "cell_type": "code",
   "execution_count": 27,
   "metadata": {},
   "outputs": [
    {
     "name": "stdout",
     "output_type": "stream",
     "text": [
      "Before: 100\n",
      "After:  -20\n"
     ]
    }
   ],
   "source": [
    "# Or you can also do it this way (recommended)\n",
    "some_number = 100\n",
    "print('Before:', some_number)\n",
    "\n",
    "def negative_20(n):\n",
    "    return -20\n",
    "\n",
    "some_number = negative_20(some_number)\n",
    "print('After: ', some_number)"
   ]
  },
  {
   "cell_type": "code",
   "execution_count": 28,
   "metadata": {},
   "outputs": [
    {
     "data": {
      "text/plain": [
       "function"
      ]
     },
     "execution_count": 28,
     "metadata": {},
     "output_type": "execute_result"
    }
   ],
   "source": [
    "type(negative_20)"
   ]
  },
  {
   "cell_type": "code",
   "execution_count": 31,
   "metadata": {},
   "outputs": [
    {
     "name": "stdout",
     "output_type": "stream",
     "text": [
      "minus_20 type: <class 'function'>\n",
      "-20\n"
     ]
    }
   ],
   "source": [
    "# Assign the function to a variable\n",
    "minus_20 = negative_20\n",
    "\n",
    "print('minus_20 type:', type(minus_20))\n",
    "\n",
    "# Maybe somone write really long name\n",
    "# minus_20 = on_monday_we_check_and_then_give_negative_20\n",
    "\n",
    "another_num = 100\n",
    "minus_20(another_num)\n",
    "\n",
    "# if you want to change\n",
    "another_num = minus_20(another_num)\n",
    "print(another_num)"
   ]
  },
  {
   "cell_type": "code",
   "execution_count": 32,
   "metadata": {},
   "outputs": [
    {
     "data": {
      "text/plain": [
       "dict"
      ]
     },
     "execution_count": 32,
     "metadata": {},
     "output_type": "execute_result"
    }
   ],
   "source": [
    "# Create a dictionary \n",
    "toolbox = {}\n",
    "type(toolbox)"
   ]
  },
  {
   "cell_type": "code",
   "execution_count": 34,
   "metadata": {},
   "outputs": [
    {
     "data": {
      "text/plain": [
       "-20"
      ]
     },
     "execution_count": 34,
     "metadata": {},
     "output_type": "execute_result"
    }
   ],
   "source": [
    "# Adding the function (object) we created into this dict\n",
    "# We are associating the string 'minus_20' with your function object\n",
    "# but the does not require to have the same name!\n",
    "toolbox = {'minus_20': minus_20}\n",
    "\n",
    "# Invoking our minus_20 function\n",
    "# dict['fun_name'](parameters)\n",
    "toolbox['minus_20'](100)"
   ]
  },
  {
   "cell_type": "code",
   "execution_count": null,
   "metadata": {},
   "outputs": [],
   "source": []
  }
 ],
 "metadata": {
  "kernelspec": {
   "display_name": "Python 3",
   "language": "python",
   "name": "python3"
  },
  "language_info": {
   "codemirror_mode": {
    "name": "ipython",
    "version": 3
   },
   "file_extension": ".py",
   "mimetype": "text/x-python",
   "name": "python",
   "nbconvert_exporter": "python",
   "pygments_lexer": "ipython3",
   "version": "3.7.3"
  }
 },
 "nbformat": 4,
 "nbformat_minor": 2
}
